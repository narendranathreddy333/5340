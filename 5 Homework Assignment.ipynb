{
 "cells": [
  {
   "cell_type": "markdown",
   "id": "9bf61cb4",
   "metadata": {},
   "source": [
    "# R Narendranath Reddy"
   ]
  },
  {
   "cell_type": "code",
   "execution_count": 1,
   "id": "377444f1",
   "metadata": {},
   "outputs": [
    {
     "name": "stdout",
     "output_type": "stream",
     "text": [
      "Data type of x:  <class 'int'> \n",
      "\n",
      "Data type of y:  <class 'int'> \n",
      "\n"
     ]
    }
   ],
   "source": [
    "x=3\n",
    "y=x\n",
    "\n",
    "print(\"Data type of x: \",type(x),'\\n')\n",
    "print(\"Data type of y: \",type(y),'\\n')"
   ]
  },
  {
   "cell_type": "code",
   "execution_count": 2,
   "id": "43c70d8f",
   "metadata": {},
   "outputs": [
    {
     "name": "stdout",
     "output_type": "stream",
     "text": [
      "Data type of x:  <class 'float'> \n",
      "\n",
      "Data type of y:  <class 'float'> \n",
      "\n"
     ]
    }
   ],
   "source": [
    "x=3.5\n",
    "y=x\n",
    "print(\"Data type of x: \",type(x),'\\n')\n",
    "print(\"Data type of y: \",type(y),'\\n')"
   ]
  },
  {
   "cell_type": "code",
   "execution_count": 3,
   "id": "2f53ac27",
   "metadata": {},
   "outputs": [
    {
     "name": "stdout",
     "output_type": "stream",
     "text": [
      "aComplex is a complex number:  (5+3j) \n",
      "\n",
      "Data type of aComplex:  <class 'complex'> \n",
      "\n"
     ]
    }
   ],
   "source": [
    "x=5\n",
    "y=3\n",
    "\n",
    "aComplex= complex(5,3)\n",
    "print (\"aComplex is a complex number: \", aComplex, \"\\n\")\n",
    "print(\"Data type of aComplex: \",type(aComplex),'\\n')"
   ]
  },
  {
   "cell_type": "code",
   "execution_count": 4,
   "id": "85eb65d6",
   "metadata": {},
   "outputs": [
    {
     "name": "stdout",
     "output_type": "stream",
     "text": [
      "boolVar is a boolean variable:  True \n",
      "\n",
      "Data type of boolVar:  <class 'bool'> \n",
      "\n"
     ]
    }
   ],
   "source": [
    "boolVar = True\n",
    "print(\"boolVar is a boolean variable: \",boolVar,\"\\n\")\n",
    "print(\"Data type of boolVar: \",type(boolVar),'\\n')"
   ]
  },
  {
   "cell_type": "code",
   "execution_count": 5,
   "id": "632ff2a4",
   "metadata": {},
   "outputs": [
    {
     "name": "stdout",
     "output_type": "stream",
     "text": [
      "boolVar is a boolean variable:  5 \n",
      "\n",
      "Data type of boolVar:  <class 'int'> \n",
      "\n"
     ]
    }
   ],
   "source": [
    "boolVar = 5\n",
    "\n",
    "if(boolVar):\n",
    "    print(\"boolVar is a boolean variable: \",boolVar,\"\\n\")\n",
    "    print(\"Data type of boolVar: \", type(boolVar), '\\n')"
   ]
  },
  {
   "cell_type": "code",
   "execution_count": 6,
   "id": "c6086209",
   "metadata": {},
   "outputs": [
    {
     "name": "stdout",
     "output_type": "stream",
     "text": [
      "boolVar is a boolean variable:  False \n",
      "\n",
      "Data type of boolVar:  <class 'bool'> \n",
      "\n"
     ]
    }
   ],
   "source": [
    "boolVar = False\n",
    "\n",
    "print(\"boolVar is a boolean variable: \",boolVar,\"\\n\")\n",
    "print(\"Data type of boolVar: \",type(boolVar),'\\n')"
   ]
  },
  {
   "cell_type": "code",
   "execution_count": 7,
   "id": "d7019b1a",
   "metadata": {},
   "outputs": [],
   "source": [
    "boolVar = 0\n",
    "\n",
    "if(boolVar):\n",
    "    print(\"boolVar is a boolean variable: \",boolVar,\"\\n\")\n",
    "    print(\"Data type of boolVar: \", type(boolVar), '\\n')"
   ]
  },
  {
   "cell_type": "code",
   "execution_count": 8,
   "id": "366ae336",
   "metadata": {},
   "outputs": [
    {
     "name": "stdout",
     "output_type": "stream",
     "text": [
      "aChar is a String Variable, NOT a Character variable:  a \n",
      "\n",
      "Data type of aChar:  <class 'str'> \n",
      "\n"
     ]
    }
   ],
   "source": [
    "aChar = 'a'\n",
    "print(\"aChar is a String Variable, NOT a Character variable: \", aChar, \"\\n\")\n",
    "print(\"Data type of aChar: \", type(aChar),'\\n')"
   ]
  },
  {
   "cell_type": "code",
   "execution_count": null,
   "id": "1fd32064",
   "metadata": {},
   "outputs": [],
   "source": []
  }
 ],
 "metadata": {
  "kernelspec": {
   "display_name": "Python 3 (ipykernel)",
   "language": "python",
   "name": "python3"
  },
  "language_info": {
   "codemirror_mode": {
    "name": "ipython",
    "version": 3
   },
   "file_extension": ".py",
   "mimetype": "text/x-python",
   "name": "python",
   "nbconvert_exporter": "python",
   "pygments_lexer": "ipython3",
   "version": "3.9.13"
  }
 },
 "nbformat": 4,
 "nbformat_minor": 5
}
