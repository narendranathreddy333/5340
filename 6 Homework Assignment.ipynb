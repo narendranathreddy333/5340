{
 "cells": [
  {
   "cell_type": "markdown",
   "id": "d22fe951",
   "metadata": {},
   "source": [
    "# R Narendranath Reddy"
   ]
  },
  {
   "cell_type": "code",
   "execution_count": 1,
   "id": "aa365d4f",
   "metadata": {},
   "outputs": [
    {
     "name": "stdout",
     "output_type": "stream",
     "text": [
      " 3.561e+02\n"
     ]
    }
   ],
   "source": [
    "print(\"%10.3e\"%(356.08977))"
   ]
  },
  {
   "cell_type": "code",
   "execution_count": 2,
   "id": "be4435fe",
   "metadata": {},
   "outputs": [
    {
     "name": "stdout",
     "output_type": "stream",
     "text": [
      "        31\n"
     ]
    }
   ],
   "source": [
    "print(\"%10o\"%(25))\n"
   ]
  },
  {
   "cell_type": "code",
   "execution_count": 3,
   "id": "8a959215",
   "metadata": {},
   "outputs": [
    {
     "name": "stdout",
     "output_type": "stream",
     "text": [
      "     00031\n"
     ]
    }
   ],
   "source": [
    "print(\"%10.5o\"%(25))"
   ]
  },
  {
   "cell_type": "code",
   "execution_count": 4,
   "id": "93723e3e",
   "metadata": {},
   "outputs": [
    {
     "name": "stdout",
     "output_type": "stream",
     "text": [
      "   2f\n"
     ]
    }
   ],
   "source": [
    "print(\"%5x\"%(47))"
   ]
  },
  {
   "cell_type": "code",
   "execution_count": 5,
   "id": "a6662154",
   "metadata": {},
   "outputs": [
    {
     "name": "stdout",
     "output_type": "stream",
     "text": [
      " 002F\n"
     ]
    }
   ],
   "source": [
    "print(\"%5.4X\"%(47))"
   ]
  },
  {
   "cell_type": "code",
   "execution_count": 6,
   "id": "9ac6486c",
   "metadata": {},
   "outputs": [
    {
     "data": {
      "text/plain": [
       "'Art:  453, Price:   59.06'"
      ]
     },
     "execution_count": 6,
     "metadata": {},
     "output_type": "execute_result"
    }
   ],
   "source": [
    "\"Art:{a:5d}, Price:{p:8.2f}\".format(a=453,p=59.058)"
   ]
  },
  {
   "cell_type": "code",
   "execution_count": 7,
   "id": "f86ecb89",
   "metadata": {},
   "outputs": [
    {
     "name": "stdout",
     "output_type": "stream",
     "text": [
      "The value is 000378\n"
     ]
    }
   ],
   "source": [
    "x=378\n",
    "print(\"The value is {:06d}\".format(x))"
   ]
  },
  {
   "cell_type": "code",
   "execution_count": 8,
   "id": "0ac45471",
   "metadata": {},
   "outputs": [
    {
     "name": "stdout",
     "output_type": "stream",
     "text": [
      "The value is 7,893,512,456\n"
     ]
    }
   ],
   "source": [
    "x=7893512456\n",
    "print(\"The value is {:,}\".format(x))"
   ]
  },
  {
   "cell_type": "code",
   "execution_count": 9,
   "id": "d80986ea",
   "metadata": {},
   "outputs": [
    {
     "name": "stdout",
     "output_type": "stream",
     "text": [
      "The value is 7,893,512,456\n"
     ]
    }
   ],
   "source": [
    "x=7893512456\n",
    "print(\"The value is {0:6,d}\".format(x))"
   ]
  },
  {
   "cell_type": "code",
   "execution_count": 10,
   "id": "ad6d605d",
   "metadata": {},
   "outputs": [
    {
     "name": "stdout",
     "output_type": "stream",
     "text": [
      "The value is 7,893,512,456.000\n"
     ]
    }
   ],
   "source": [
    "x=7893512456\n",
    "print(\"The value is {0:12,.3f}\".format(x))"
   ]
  },
  {
   "cell_type": "code",
   "execution_count": 11,
   "id": "97d551a8",
   "metadata": {},
   "outputs": [
    {
     "data": {
      "text/plain": [
       "'First argument :47, second one: 11'"
      ]
     },
     "execution_count": 11,
     "metadata": {},
     "output_type": "execute_result"
    }
   ],
   "source": [
    "\"First argument :{0}, second one: {1}\".format(47,11)"
   ]
  },
  {
   "cell_type": "code",
   "execution_count": 12,
   "id": "08d2963f",
   "metadata": {},
   "outputs": [
    {
     "data": {
      "text/plain": [
       "'Second argument : 11, first one:   47.42'"
      ]
     },
     "execution_count": 12,
     "metadata": {},
     "output_type": "execute_result"
    }
   ],
   "source": [
    "\"Second argument :{1:3d}, first one: {0:7.2f}\".format(47.42,11)"
   ]
  },
  {
   "cell_type": "code",
   "execution_count": 13,
   "id": "649dd396",
   "metadata": {},
   "outputs": [
    {
     "data": {
      "text/plain": [
       "'various precisions :  1.41 or  1.415'"
      ]
     },
     "execution_count": 13,
     "metadata": {},
     "output_type": "execute_result"
    }
   ],
   "source": [
    "\"various precisions :{0:6.2f} or {0:6.3f}\".format(1.4148)"
   ]
  },
  {
   "cell_type": "code",
   "execution_count": null,
   "id": "9b74f790",
   "metadata": {},
   "outputs": [],
   "source": []
  }
 ],
 "metadata": {
  "kernelspec": {
   "display_name": "Python 3 (ipykernel)",
   "language": "python",
   "name": "python3"
  },
  "language_info": {
   "codemirror_mode": {
    "name": "ipython",
    "version": 3
   },
   "file_extension": ".py",
   "mimetype": "text/x-python",
   "name": "python",
   "nbconvert_exporter": "python",
   "pygments_lexer": "ipython3",
   "version": "3.9.13"
  }
 },
 "nbformat": 4,
 "nbformat_minor": 5
}
