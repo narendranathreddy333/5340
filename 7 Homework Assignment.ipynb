{
 "cells": [
  {
   "cell_type": "markdown",
   "id": "120fb0d4",
   "metadata": {},
   "source": [
    "# R Narendranath Reddy"
   ]
  },
  {
   "cell_type": "code",
   "execution_count": 1,
   "id": "c9054485",
   "metadata": {},
   "outputs": [
    {
     "data": {
      "text/plain": [
       "['a', 'b', 'c']"
      ]
     },
     "execution_count": 1,
     "metadata": {},
     "output_type": "execute_result"
    }
   ],
   "source": [
    "list (\"abc\")"
   ]
  },
  {
   "cell_type": "code",
   "execution_count": 2,
   "id": "7a29ca3f",
   "metadata": {},
   "outputs": [
    {
     "name": "stdout",
     "output_type": "stream",
     "text": [
      "0\n"
     ]
    }
   ],
   "source": [
    "empty_list = []\n",
    "print(len(empty_list))"
   ]
  },
  {
   "cell_type": "code",
   "execution_count": 3,
   "id": "fff577d5",
   "metadata": {},
   "outputs": [
    {
     "name": "stdout",
     "output_type": "stream",
     "text": [
      "['This', 'is', 'a', 'string', 'of', 'words']\n"
     ]
    }
   ],
   "source": [
    "aStringOfWords= \"This is a string of words\"\n",
    "aList=aStringOfWords.split(' ')\n",
    "print(aList)"
   ]
  },
  {
   "cell_type": "code",
   "execution_count": 4,
   "id": "1815f5ec",
   "metadata": {},
   "outputs": [
    {
     "name": "stdout",
     "output_type": "stream",
     "text": [
      "['5', '1', '2017']\n"
     ]
    }
   ],
   "source": [
    "aDayString=\"5/1/2017\"\n",
    "aList=aDayString.split('/')\n",
    "print(aList)"
   ]
  },
  {
   "cell_type": "code",
   "execution_count": 5,
   "id": "e05fd764",
   "metadata": {},
   "outputs": [
    {
     "name": "stdout",
     "output_type": "stream",
     "text": [
      "[2, 3]\n",
      "[3, 4]\n",
      "[4, 5]\n"
     ]
    }
   ],
   "source": [
    "l_lists=[[1,2,3],[2,3,4],[3,4,5]]\n",
    "new_llists=[element[1:] for element in l_lists]\n",
    "i=0\n",
    "for element in new_llists:\n",
    "    print(element)\n",
    "    i=i+1\n",
    "    if i==3:\n",
    "        break"
   ]
  },
  {
   "cell_type": "code",
   "execution_count": 6,
   "id": "053714da",
   "metadata": {},
   "outputs": [
    {
     "name": "stdout",
     "output_type": "stream",
     "text": [
      "a\n"
     ]
    }
   ],
   "source": [
    "n_list=[\"Happy\",[2,0,1,5]]\n",
    "print(n_list[0][1])"
   ]
  },
  {
   "cell_type": "code",
   "execution_count": 7,
   "id": "3a7e44db",
   "metadata": {},
   "outputs": [
    {
     "name": "stdout",
     "output_type": "stream",
     "text": [
      "Length of the list: 3\n"
     ]
    }
   ],
   "source": [
    "aTuple=('ready','fire','aim')\n",
    "aList=list(aTuple)\n",
    "print(\"Length of the list:\",len(aList))"
   ]
  },
  {
   "cell_type": "code",
   "execution_count": 8,
   "id": "7d479430",
   "metadata": {},
   "outputs": [
    {
     "name": "stdout",
     "output_type": "stream",
     "text": [
      "aim\n"
     ]
    }
   ],
   "source": [
    "aTuple=('ready','fire','aim')\n",
    "aList=list(aTuple)\n",
    "list_element3=aList[2]\n",
    "print(list_element3)"
   ]
  },
  {
   "cell_type": "code",
   "execution_count": 9,
   "id": "d9c08f44",
   "metadata": {},
   "outputs": [
    {
     "name": "stdout",
     "output_type": "stream",
     "text": [
      "Python and C are quite different !\n"
     ]
    }
   ],
   "source": [
    "languages=[\"Python\",\"C\",\"C++\",\"Java\",\"Perl\"]\n",
    "print(languages[0]+\" and \"+languages[1]+\" are quite different !\")"
   ]
  },
  {
   "cell_type": "code",
   "execution_count": 10,
   "id": "c8a28599",
   "metadata": {},
   "outputs": [
    {
     "name": "stdout",
     "output_type": "stream",
     "text": [
      "['p', 'r', 'o', 'g']\n"
     ]
    }
   ],
   "source": [
    "my_list=['p','r','o','g','r','a','m','i','z']\n",
    "\n",
    "print(my_list[:-5])"
   ]
  },
  {
   "cell_type": "code",
   "execution_count": 11,
   "id": "54b660ef",
   "metadata": {},
   "outputs": [
    {
     "name": "stdout",
     "output_type": "stream",
     "text": [
      "[1, 3, 5, 7]\n"
     ]
    }
   ],
   "source": [
    "odd= [2,4,6,8]\n",
    "odd[0]=1\n",
    "odd[1:4]=[3,5,7]\n",
    "print(odd)"
   ]
  },
  {
   "cell_type": "code",
   "execution_count": 12,
   "id": "72401389",
   "metadata": {},
   "outputs": [
    {
     "name": "stdout",
     "output_type": "stream",
     "text": [
      "[1, 3, 5, 7, 9, 11, 13]\n"
     ]
    }
   ],
   "source": [
    "odd= [1,3,5]\n",
    "odd.append(7)\n",
    "odd.extend([9,11,13])\n",
    "print(odd)"
   ]
  },
  {
   "cell_type": "code",
   "execution_count": 13,
   "id": "567d733d",
   "metadata": {},
   "outputs": [
    {
     "name": "stdout",
     "output_type": "stream",
     "text": [
      "Elements from index 1 until 4 have been removed:  ['p', 'm']\n"
     ]
    }
   ],
   "source": [
    "my_list=['p','r','o','b','l','e','m']\n",
    "\n",
    "# delete one item\n",
    "del my_list[2]\n",
    "\n",
    "# delete multiple items\n",
    "del my_list[1:5]\n",
    "\n",
    "print(\"Elements from index 1 until 4 have been removed: \",my_list)"
   ]
  },
  {
   "cell_type": "code",
   "execution_count": 14,
   "id": "20144894",
   "metadata": {},
   "outputs": [
    {
     "name": "stdout",
     "output_type": "stream",
     "text": [
      "['r', 'b', 'l', 'e']\n"
     ]
    }
   ],
   "source": [
    "my_list=['p','r','o','b','l','e','m']\n",
    "my_list.remove('p')\n",
    "my_list.pop(1)\n",
    "my_list.pop()\n",
    "\n",
    "print(my_list)"
   ]
  },
  {
   "cell_type": "code",
   "execution_count": 15,
   "id": "0eebf38c",
   "metadata": {},
   "outputs": [
    {
     "data": {
      "text/plain": [
       "(140422083418880, 140422083418880)"
      ]
     },
     "execution_count": 15,
     "metadata": {},
     "output_type": "execute_result"
    }
   ],
   "source": [
    "# Intializing list 1\n",
    "list1=[1,2,[3,5],4]\n",
    "\n",
    "# using copy\n",
    "list2 = list1\n",
    "\n",
    "id(list1), id(list2)"
   ]
  },
  {
   "cell_type": "code",
   "execution_count": 16,
   "id": "7712ff99",
   "metadata": {},
   "outputs": [
    {
     "data": {
      "text/plain": [
       "(140422083472128, 140421674087232)"
      ]
     },
     "execution_count": 16,
     "metadata": {},
     "output_type": "execute_result"
    }
   ],
   "source": [
    "# importing \"copy\" for copy operations\n",
    "import copy\n",
    "\n",
    "# initializing list 1\n",
    "list1=[1,2,[3,5],4]\n",
    "\n",
    "# using deepcopy to deepcopy\n",
    "list2=copy.deepcopy(list1)\n",
    "\n",
    "id(list1), id(list2)"
   ]
  },
  {
   "cell_type": "code",
   "execution_count": 17,
   "id": "6fba65c6",
   "metadata": {},
   "outputs": [
    {
     "ename": "NameError",
     "evalue": "name 'list1' is not defined",
     "output_type": "error",
     "traceback": [
      "\u001b[0;31m---------------------------------------------------------------------------\u001b[0m",
      "\u001b[0;31mNameError\u001b[0m                                 Traceback (most recent call last)",
      "\u001b[0;32m/var/folders/73/3vwzkq397j5_wtwpszq3cl8w0000gn/T/ipykernel_12171/4068678165.py\u001b[0m in \u001b[0;36m<module>\u001b[0;34m\u001b[0m\n\u001b[1;32m      1\u001b[0m \u001b[0mlist1\u001b[0m\u001b[0;34m=\u001b[0m\u001b[0;34m[\u001b[0m\u001b[0;36m1\u001b[0m\u001b[0;34m,\u001b[0m\u001b[0;36m2\u001b[0m\u001b[0;34m,\u001b[0m\u001b[0;34m[\u001b[0m\u001b[0;36m3\u001b[0m\u001b[0;34m,\u001b[0m\u001b[0;36m5\u001b[0m\u001b[0;34m]\u001b[0m\u001b[0;34m,\u001b[0m\u001b[0;36m4\u001b[0m\u001b[0;34m]\u001b[0m\u001b[0;34m\u001b[0m\u001b[0;34m\u001b[0m\u001b[0m\n\u001b[1;32m      2\u001b[0m \u001b[0;32mdel\u001b[0m\u001b[0;34m(\u001b[0m\u001b[0mlist1\u001b[0m\u001b[0;34m)\u001b[0m\u001b[0;34m\u001b[0m\u001b[0;34m\u001b[0m\u001b[0m\n\u001b[0;32m----> 3\u001b[0;31m \u001b[0mprint\u001b[0m\u001b[0;34m(\u001b[0m\u001b[0mlist1\u001b[0m\u001b[0;34m)\u001b[0m\u001b[0;34m\u001b[0m\u001b[0;34m\u001b[0m\u001b[0m\n\u001b[0m",
      "\u001b[0;31mNameError\u001b[0m: name 'list1' is not defined"
     ]
    }
   ],
   "source": [
    "list1=[1,2,[3,5],4]\n",
    "del(list1)\n",
    "print(list1)"
   ]
  },
  {
   "cell_type": "code",
   "execution_count": 18,
   "id": "a6e062d2",
   "metadata": {},
   "outputs": [
    {
     "name": "stdout",
     "output_type": "stream",
     "text": [
      "[1, 2, [3, 5], 4, 'Hello', 'World']\n"
     ]
    }
   ],
   "source": [
    "list1=[1,2,[3,5],4]\n",
    "list2=[\"Hello\",\"World\"]\n",
    "print(list1 + list2)"
   ]
  },
  {
   "cell_type": "code",
   "execution_count": 19,
   "id": "c48daa54",
   "metadata": {},
   "outputs": [
    {
     "name": "stdout",
     "output_type": "stream",
     "text": [
      "['re', 're', 're']\n"
     ]
    }
   ],
   "source": [
    "print([\"re\"]*3)"
   ]
  },
  {
   "cell_type": "code",
   "execution_count": 20,
   "id": "b9b5ed30",
   "metadata": {},
   "outputs": [
    {
     "name": "stdout",
     "output_type": "stream",
     "text": [
      "False\n"
     ]
    }
   ],
   "source": [
    "list1=[1,2,[3,5],4]\n",
    "print([3] in list1)"
   ]
  },
  {
   "cell_type": "code",
   "execution_count": 21,
   "id": "b33634f3",
   "metadata": {},
   "outputs": [
    {
     "name": "stdout",
     "output_type": "stream",
     "text": [
      "1\n",
      "2\n",
      "[3, 5]\n",
      "4\n"
     ]
    }
   ],
   "source": [
    "list1=[1,2,[3,5],4]\n",
    "\n",
    "for i in list1:\n",
    "    print(i)"
   ]
  },
  {
   "cell_type": "code",
   "execution_count": 22,
   "id": "d0ce8d40",
   "metadata": {},
   "outputs": [
    {
     "name": "stdout",
     "output_type": "stream",
     "text": [
      "12[3, 5]4"
     ]
    }
   ],
   "source": [
    "list1=[1,2,[3,5],4]\n",
    "\n",
    "for i in list1:\n",
    "    print(i,end=\"\")"
   ]
  },
  {
   "cell_type": "code",
   "execution_count": 23,
   "id": "b0e64b91",
   "metadata": {},
   "outputs": [
    {
     "name": "stdout",
     "output_type": "stream",
     "text": [
      "I like apple\n",
      "I like banana\n",
      "I like mango\n"
     ]
    }
   ],
   "source": [
    "for fruit in['apple','banana','mango']:\n",
    "    print(\"I like\",fruit)"
   ]
  },
  {
   "cell_type": "code",
   "execution_count": 24,
   "id": "9a6ea2e0",
   "metadata": {},
   "outputs": [
    {
     "name": "stdout",
     "output_type": "stream",
     "text": [
      "sorted list: ['a', 'e', 'i', 'o', 'u']\n"
     ]
    }
   ],
   "source": [
    "# vowels list\n",
    "vowels=['e','a','u','o','i']\n",
    "\n",
    "# sort the vowels\n",
    "vowels.sort()\n",
    "\n",
    "# Print vowels\n",
    "print('sorted list:',vowels)"
   ]
  },
  {
   "cell_type": "code",
   "execution_count": 25,
   "id": "d8bf6383",
   "metadata": {},
   "outputs": [
    {
     "name": "stdout",
     "output_type": "stream",
     "text": [
      "2\n"
     ]
    }
   ],
   "source": [
    "list1=['a','p','p','l','e']\n",
    "\n",
    "print(list1.count('p'))"
   ]
  },
  {
   "cell_type": "code",
   "execution_count": 26,
   "id": "825aab54",
   "metadata": {},
   "outputs": [
    {
     "name": "stdout",
     "output_type": "stream",
     "text": [
      "1\n"
     ]
    }
   ],
   "source": [
    "list1=['a','p','p','l','e']\n",
    "\n",
    "print(list1.index('p'))"
   ]
  },
  {
   "cell_type": "code",
   "execution_count": null,
   "id": "aa795137",
   "metadata": {},
   "outputs": [],
   "source": []
  }
 ],
 "metadata": {
  "kernelspec": {
   "display_name": "Python 3 (ipykernel)",
   "language": "python",
   "name": "python3"
  },
  "language_info": {
   "codemirror_mode": {
    "name": "ipython",
    "version": 3
   },
   "file_extension": ".py",
   "mimetype": "text/x-python",
   "name": "python",
   "nbconvert_exporter": "python",
   "pygments_lexer": "ipython3",
   "version": "3.9.13"
  }
 },
 "nbformat": 4,
 "nbformat_minor": 5
}
