{
 "cells": [
  {
   "cell_type": "markdown",
   "id": "22b47031",
   "metadata": {},
   "source": [
    "# R Narendranath Reddy"
   ]
  },
  {
   "cell_type": "code",
   "execution_count": 2,
   "id": "85b72bfb",
   "metadata": {},
   "outputs": [
    {
     "name": "stdout",
     "output_type": "stream",
     "text": [
      "C\n",
      "C++\n",
      "Java\n",
      "Python\n",
      "Perl\n",
      "Ruby\n",
      "Scala\n"
     ]
    }
   ],
   "source": [
    "language=[\"C\",\"C++\",\"Java\",\"Python\",\"Perl\",\"Ruby\",\"Scala\"]\n",
    "\n",
    "for x in language:\n",
    "    print(x)"
   ]
  },
  {
   "cell_type": "code",
   "execution_count": 3,
   "id": "85e6e202",
   "metadata": {},
   "outputs": [
    {
     "name": "stdout",
     "output_type": "stream",
     "text": [
      "Great,delicious ham\n",
      "No More spam please!\n",
      "Finally, I finished stuffing myself\n"
     ]
    }
   ],
   "source": [
    "edibles=[\"ham\",\"spam\",\"eggs\",\"nuts\"]\n",
    "for food in edibles:\n",
    "    if food== \"spam\":\n",
    "        print(\"No More spam please!\")\n",
    "        break\n",
    "    print(\"Great,delicious \" + food)    \n",
    "else:\n",
    "          print(\"I'm so glad; No spam!\")\n",
    "print(\"Finally, I finished stuffing myself\")"
   ]
  },
  {
   "cell_type": "code",
   "execution_count": 4,
   "id": "eee3648f",
   "metadata": {},
   "outputs": [
    {
     "name": "stdout",
     "output_type": "stream",
     "text": [
      "No break in FOR loop statements, but list item is: ham\n",
      "No break in FOR loop statements, but list item is: spam\n",
      "No break in FOR loop statements, but list item is: eggs\n",
      "No break in FOR loop statements, but list item is: nuts\n",
      "I'm so glad; No spam!\n",
      "Finally, I finished stuffing myself\n"
     ]
    }
   ],
   "source": [
    "edibles=[\"ham\",\"spam\",\"eggs\",\"nuts\"]\n",
    "for food in edibles:\n",
    "    print(\"No break in FOR loop statements, but list item is: \" + food)\n",
    "else:\n",
    "    print(\"I'm so glad; No spam!\")\n",
    "    \n",
    "print(\"Finally, I finished stuffing myself\")"
   ]
  },
  {
   "cell_type": "code",
   "execution_count": 5,
   "id": "8603ba2b",
   "metadata": {},
   "outputs": [
    {
     "name": "stdout",
     "output_type": "stream",
     "text": [
      "Great,delicious ham\n",
      "No More spam please!\n",
      "Finally, I finished stuffing myself\n"
     ]
    }
   ],
   "source": [
    "edibles=[\"ham\",\"spam\",\"eggs\",\"nuts\"]\n",
    "spam=False\n",
    "\n",
    "for food in edibles:\n",
    "    if food== \"spam\":\n",
    "        spam=True\n",
    "        print(\"No More spam please!\")\n",
    "        break\n",
    "    print(\"Great,delicious \" + food) \n",
    "    \n",
    "if(not spam):\n",
    "    print(\"I'm so glad; No spam!\")\n",
    "    \n",
    "print(\"Finally, I finished stuffing myself\") "
   ]
  },
  {
   "cell_type": "code",
   "execution_count": 6,
   "id": "ce9e9172",
   "metadata": {},
   "outputs": [
    {
     "name": "stdout",
     "output_type": "stream",
     "text": [
      "Great,delicious ham\n",
      "Great,delicious eggs\n",
      "Great,delicious nuts\n",
      "I'm so glad; No spam!\n",
      "Finally, I finished stuffing myself\n"
     ]
    }
   ],
   "source": [
    "edibles=[\"ham\",\"eggs\",\"nuts\"]\n",
    "spam=False\n",
    "\n",
    "for food in edibles:\n",
    "    if food== \"spam\":\n",
    "        spam= True\n",
    "        print(\"No More spam please!\")\n",
    "        break\n",
    "    print(\"Great,delicious \" + food)  \n",
    "    \n",
    "if(not spam):\n",
    "    print(\"I'm so glad; No spam!\")\n",
    "    \n",
    "print(\"Finally, I finished stuffing myself\")"
   ]
  },
  {
   "cell_type": "code",
   "execution_count": 1,
   "id": "235e5f48",
   "metadata": {},
   "outputs": [
    {
     "name": "stdout",
     "output_type": "stream",
     "text": [
      "Enter the price of the next sold item: 500000\n",
      "Enter the price of the next sold item: 1000000\n",
      "1500000\n"
     ]
    }
   ],
   "source": [
    "numItems=0\n",
    "totalSales=0\n",
    "totalSoldItems=5000\n",
    "\n",
    "while(numItems<totalSoldItems):\n",
    "    price=int(input(\"Enter the price of the next sold item: \"))\n",
    "    totalSales=totalSales+price\n",
    "    if(totalSales>=1000000):\n",
    "        break;\n",
    "    numItems=numItems+1 \n",
    "print(totalSales)"
   ]
  },
  {
   "cell_type": "code",
   "execution_count": null,
   "id": "86a7ed9d",
   "metadata": {},
   "outputs": [],
   "source": []
  }
 ],
 "metadata": {
  "kernelspec": {
   "display_name": "Python 3 (ipykernel)",
   "language": "python",
   "name": "python3"
  },
  "language_info": {
   "codemirror_mode": {
    "name": "ipython",
    "version": 3
   },
   "file_extension": ".py",
   "mimetype": "text/x-python",
   "name": "python",
   "nbconvert_exporter": "python",
   "pygments_lexer": "ipython3",
   "version": "3.9.13"
  }
 },
 "nbformat": 4,
 "nbformat_minor": 5
}
