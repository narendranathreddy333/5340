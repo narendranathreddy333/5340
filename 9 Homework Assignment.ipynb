{
 "cells": [
  {
   "cell_type": "markdown",
   "id": "36ff0356",
   "metadata": {},
   "source": [
    "# R Narendranath Reddy"
   ]
  },
  {
   "cell_type": "code",
   "execution_count": 1,
   "id": "49ace975",
   "metadata": {},
   "outputs": [
    {
     "name": "stdout",
     "output_type": "stream",
     "text": [
      "Hello\n"
     ]
    }
   ],
   "source": [
    "aStr2='Hello'\n",
    "print(aStr2)"
   ]
  },
  {
   "cell_type": "code",
   "execution_count": 2,
   "id": "5a0941ce",
   "metadata": {},
   "outputs": [
    {
     "name": "stdout",
     "output_type": "stream",
     "text": [
      "The length of this string -or the number of characters:  17\n"
     ]
    }
   ],
   "source": [
    "aStr=\"This is a String.\"\n",
    "print(\"The length of this string -or the number of characters: \", len(aStr))"
   ]
  },
  {
   "cell_type": "code",
   "execution_count": 3,
   "id": "e906531d",
   "metadata": {},
   "outputs": [
    {
     "name": "stdout",
     "output_type": "stream",
     "text": [
      ".\n"
     ]
    }
   ],
   "source": [
    "aStr=\"This is a String.\"\n",
    "\n",
    "print(aStr[16])"
   ]
  },
  {
   "cell_type": "code",
   "execution_count": 4,
   "id": "abdebd7a",
   "metadata": {},
   "outputs": [
    {
     "name": "stdout",
     "output_type": "stream",
     "text": [
      "Hello.Welcome to \n",
      "\n",
      "             Python World!\n"
     ]
    }
   ],
   "source": [
    "my_string= \"\"\"Hello.Welcome to \n",
    "\n",
    "             Python World!\"\"\"\n",
    "print(my_string)"
   ]
  },
  {
   "cell_type": "code",
   "execution_count": 5,
   "id": "166eaaf6",
   "metadata": {},
   "outputs": [
    {
     "name": "stdout",
     "output_type": "stream",
     "text": [
      "This is a list:  ['This', 'is', 'a', 'string']\n"
     ]
    }
   ],
   "source": [
    "aList=[\"This\",\"is\",\"a\",\"string\"]\n",
    "\n",
    "print(\"This is a list: \", aList)"
   ]
  },
  {
   "cell_type": "code",
   "execution_count": 6,
   "id": "514fbc4d",
   "metadata": {},
   "outputs": [
    {
     "name": "stdout",
     "output_type": "stream",
     "text": [
      "This is a string:  20 30 40 50 60\n"
     ]
    }
   ],
   "source": [
    "aList = [20,30,40,50,60]\n",
    "\n",
    "# Convert aList into a list of strings-Using the constructor str()\n",
    "aStrList = [str(element) for element in aList]\n",
    "\n",
    "# Using join() to create a new string\n",
    "aString=\" \".join(aStrList)\n",
    "\n",
    "print(\"This is a string: \",aString)"
   ]
  },
  {
   "cell_type": "code",
   "execution_count": 7,
   "id": "6ebd41a5",
   "metadata": {},
   "outputs": [
    {
     "name": "stdout",
     "output_type": "stream",
     "text": [
      "str[-1] z\n"
     ]
    }
   ],
   "source": [
    "str='programiz'\n",
    "\n",
    "print('str[-1]',str[-1])"
   ]
  },
  {
   "cell_type": "code",
   "execution_count": 8,
   "id": "70d9b990",
   "metadata": {},
   "outputs": [
    {
     "name": "stdout",
     "output_type": "stream",
     "text": [
      "ho\n"
     ]
    }
   ],
   "source": [
    "sample_str='Python String'\n",
    "print(sample_str[3:5])"
   ]
  },
  {
   "cell_type": "code",
   "execution_count": 9,
   "id": "28edebfd",
   "metadata": {},
   "outputs": [
    {
     "name": "stdout",
     "output_type": "stream",
     "text": [
      "St\n"
     ]
    }
   ],
   "source": [
    "sample_str='Python String'\n",
    "\n",
    "print(sample_str[7:-4])"
   ]
  },
  {
   "cell_type": "code",
   "execution_count": 10,
   "id": "12088ce8",
   "metadata": {},
   "outputs": [
    {
     "ename": "TypeError",
     "evalue": "'str' object does not support item assignment",
     "output_type": "error",
     "traceback": [
      "\u001b[0;31m---------------------------------------------------------------------------\u001b[0m",
      "\u001b[0;31mTypeError\u001b[0m                                 Traceback (most recent call last)",
      "\u001b[0;32m/var/folders/73/3vwzkq397j5_wtwpszq3cl8w0000gn/T/ipykernel_17316/1270093657.py\u001b[0m in \u001b[0;36m<module>\u001b[0;34m\u001b[0m\n\u001b[1;32m      1\u001b[0m \u001b[0msample_str\u001b[0m\u001b[0;34m=\u001b[0m\u001b[0;34m'Python String'\u001b[0m\u001b[0;34m\u001b[0m\u001b[0;34m\u001b[0m\u001b[0m\n\u001b[0;32m----> 2\u001b[0;31m \u001b[0msample_str\u001b[0m\u001b[0;34m[\u001b[0m\u001b[0;36m2\u001b[0m\u001b[0;34m]\u001b[0m\u001b[0;34m=\u001b[0m\u001b[0;34m'a'\u001b[0m\u001b[0;34m\u001b[0m\u001b[0;34m\u001b[0m\u001b[0m\n\u001b[0m",
      "\u001b[0;31mTypeError\u001b[0m: 'str' object does not support item assignment"
     ]
    }
   ],
   "source": [
    "sample_str='Python String'\n",
    "sample_str[2]='a'"
   ]
  },
  {
   "cell_type": "code",
   "execution_count": 11,
   "id": "04c56f83",
   "metadata": {},
   "outputs": [
    {
     "name": "stdout",
     "output_type": "stream",
     "text": [
      "str1 after being reassigned:  This is a new string.\n"
     ]
    }
   ],
   "source": [
    "str1 =\"This is a string.\"\n",
    "\n",
    "str1= \"This is a new string.\"\n",
    "print(\"str1 after being reassigned: \",str1 )"
   ]
  },
  {
   "cell_type": "code",
   "execution_count": 12,
   "id": "6d400493",
   "metadata": {},
   "outputs": [
    {
     "ename": "NameError",
     "evalue": "name 'sample_str' is not defined",
     "output_type": "error",
     "traceback": [
      "\u001b[0;31m---------------------------------------------------------------------------\u001b[0m",
      "\u001b[0;31mNameError\u001b[0m                                 Traceback (most recent call last)",
      "\u001b[0;32m/var/folders/73/3vwzkq397j5_wtwpszq3cl8w0000gn/T/ipykernel_17316/2003696684.py\u001b[0m in \u001b[0;36m<module>\u001b[0;34m\u001b[0m\n\u001b[1;32m      1\u001b[0m \u001b[0msample_str\u001b[0m\u001b[0;34m=\u001b[0m \u001b[0;34m\"Python is the best scripting language\"\u001b[0m\u001b[0;34m\u001b[0m\u001b[0;34m\u001b[0m\u001b[0m\n\u001b[1;32m      2\u001b[0m \u001b[0;32mdel\u001b[0m\u001b[0;34m(\u001b[0m\u001b[0msample_str\u001b[0m \u001b[0;34m)\u001b[0m\u001b[0;34m\u001b[0m\u001b[0;34m\u001b[0m\u001b[0m\n\u001b[0;32m----> 3\u001b[0;31m \u001b[0mprint\u001b[0m\u001b[0;34m(\u001b[0m\u001b[0msample_str\u001b[0m\u001b[0;34m)\u001b[0m\u001b[0;34m\u001b[0m\u001b[0;34m\u001b[0m\u001b[0m\n\u001b[0m",
      "\u001b[0;31mNameError\u001b[0m: name 'sample_str' is not defined"
     ]
    }
   ],
   "source": [
    "sample_str= \"Python is the best scripting language\"\n",
    "del(sample_str )\n",
    "print(sample_str)"
   ]
  },
  {
   "cell_type": "code",
   "execution_count": 13,
   "id": "0d492275",
   "metadata": {},
   "outputs": [
    {
     "name": "stdout",
     "output_type": "stream",
     "text": [
      "str1+str2+str3=  Hello World!\n"
     ]
    }
   ],
   "source": [
    "str1='Hello'\n",
    "str2=' '\n",
    "str3='World!'\n",
    "# using+\n",
    "print('str1+str2+str3= ',str1+str2+str3)"
   ]
  },
  {
   "cell_type": "code",
   "execution_count": 14,
   "id": "52f56d5e",
   "metadata": {},
   "outputs": [
    {
     "name": "stdout",
     "output_type": "stream",
     "text": [
      "the string has been replicated three times:  HelloHelloHello\n"
     ]
    }
   ],
   "source": [
    "str=\"Hello\"\n",
    "replicatedStr=str*3\n",
    "print(\"the string has been replicated three times: \", replicatedStr)"
   ]
  },
  {
   "cell_type": "code",
   "execution_count": 15,
   "id": "026d15ea",
   "metadata": {},
   "outputs": [
    {
     "name": "stdout",
     "output_type": "stream",
     "text": [
      "True\n"
     ]
    }
   ],
   "source": [
    "str1=\"Welcome\"\n",
    "print(\"come\" in str1)"
   ]
  },
  {
   "cell_type": "code",
   "execution_count": 16,
   "id": "40a1bd29",
   "metadata": {},
   "outputs": [
    {
     "name": "stdout",
     "output_type": "stream",
     "text": [
      "False\n"
     ]
    }
   ],
   "source": [
    "str1=\"Welcome\"\n",
    "print(\"come\" not in str1)"
   ]
  },
  {
   "cell_type": "code",
   "execution_count": 17,
   "id": "da57f3fb",
   "metadata": {},
   "outputs": [
    {
     "name": "stdout",
     "output_type": "stream",
     "text": [
      "True\n"
     ]
    }
   ],
   "source": [
    "print(\"apple\" < \"banana\")"
   ]
  },
  {
   "cell_type": "code",
   "execution_count": 18,
   "id": "e1cfa570",
   "metadata": {},
   "outputs": [
    {
     "name": "stdout",
     "output_type": "stream",
     "text": [
      "Hello"
     ]
    }
   ],
   "source": [
    "aStr=\"Hello\"\n",
    "\n",
    "for i in aStr:\n",
    "    print(i,end=\"\")"
   ]
  },
  {
   "cell_type": "code",
   "execution_count": 19,
   "id": "f104c18b",
   "metadata": {},
   "outputs": [
    {
     "data": {
      "text/plain": [
       "False"
      ]
     },
     "execution_count": 19,
     "metadata": {},
     "output_type": "execute_result"
    }
   ],
   "source": [
    "s = \"welcome to Python\"\n",
    "s.isalnum()"
   ]
  },
  {
   "cell_type": "code",
   "execution_count": 20,
   "id": "75e815fd",
   "metadata": {},
   "outputs": [
    {
     "data": {
      "text/plain": [
       "False"
      ]
     },
     "execution_count": 20,
     "metadata": {},
     "output_type": "execute_result"
    }
   ],
   "source": [
    "\"Welcome\".islower()"
   ]
  },
  {
   "cell_type": "code",
   "execution_count": 21,
   "id": "bc7d1e74",
   "metadata": {},
   "outputs": [
    {
     "name": "stdout",
     "output_type": "stream",
     "text": [
      "2\n"
     ]
    }
   ],
   "source": [
    "str1= \"This is a string: Hello....Hello Python World!\"\n",
    "print(str1.count(\"Hello\"))"
   ]
  },
  {
   "cell_type": "code",
   "execution_count": null,
   "id": "0883ccac",
   "metadata": {},
   "outputs": [],
   "source": []
  }
 ],
 "metadata": {
  "kernelspec": {
   "display_name": "Python 3 (ipykernel)",
   "language": "python",
   "name": "python3"
  },
  "language_info": {
   "codemirror_mode": {
    "name": "ipython",
    "version": 3
   },
   "file_extension": ".py",
   "mimetype": "text/x-python",
   "name": "python",
   "nbconvert_exporter": "python",
   "pygments_lexer": "ipython3",
   "version": "3.9.13"
  }
 },
 "nbformat": 4,
 "nbformat_minor": 5
}
