{
 "cells": [
  {
   "cell_type": "markdown",
   "id": "3f0dbc11",
   "metadata": {},
   "source": [
    "# R Narendranath Reddy"
   ]
  },
  {
   "cell_type": "code",
   "execution_count": 1,
   "id": "69ff6505",
   "metadata": {},
   "outputs": [
    {
     "data": {
      "text/plain": [
       "'tuples'"
      ]
     },
     "execution_count": 1,
     "metadata": {},
     "output_type": "execute_result"
    }
   ],
   "source": [
    "t= (\"tuples\",\"are\",\"immutable\")\n",
    "t[0]"
   ]
  },
  {
   "cell_type": "code",
   "execution_count": 2,
   "id": "0543fd8c",
   "metadata": {},
   "outputs": [
    {
     "name": "stdout",
     "output_type": "stream",
     "text": [
      "immutable\n"
     ]
    }
   ],
   "source": [
    "t=(\"tuples\",\"are\",\"immutable\")\n",
    "\n",
    "print(t[-1])"
   ]
  },
  {
   "cell_type": "code",
   "execution_count": 3,
   "id": "6307e41c",
   "metadata": {},
   "outputs": [
    {
     "name": "stdout",
     "output_type": "stream",
     "text": [
      "3\n"
     ]
    }
   ],
   "source": [
    "t=(\"tuples\",\"are\",\"immutable\")\n",
    "\n",
    "print(len(t))"
   ]
  },
  {
   "cell_type": "code",
   "execution_count": 4,
   "id": "9ab705fe",
   "metadata": {},
   "outputs": [
    {
     "name": "stdout",
     "output_type": "stream",
     "text": [
      "(1, 'Hello', 3.4)\n"
     ]
    }
   ],
   "source": [
    "my_tuple= (1,\"Hello\", 3.4)\n",
    "print(my_tuple)"
   ]
  },
  {
   "cell_type": "code",
   "execution_count": 5,
   "id": "c206cebd",
   "metadata": {},
   "outputs": [
    {
     "name": "stdout",
     "output_type": "stream",
     "text": [
      "s\n"
     ]
    }
   ],
   "source": [
    "n_tuple=(\"mouse\",[8,4,6],(1,2,3))\n",
    "\n",
    "print(n_tuple[0][3])"
   ]
  },
  {
   "cell_type": "code",
   "execution_count": 6,
   "id": "121ae0cc",
   "metadata": {},
   "outputs": [
    {
     "name": "stdout",
     "output_type": "stream",
     "text": [
      "p\n"
     ]
    }
   ],
   "source": [
    "my_tuple=('p','e','r','m','i','t')\n",
    "\n",
    "print(my_tuple[-6])"
   ]
  },
  {
   "cell_type": "code",
   "execution_count": 7,
   "id": "3ac52d8a",
   "metadata": {},
   "outputs": [
    {
     "ename": "IndexError",
     "evalue": "tuple index out of range",
     "output_type": "error",
     "traceback": [
      "\u001b[0;31m---------------------------------------------------------------------------\u001b[0m",
      "\u001b[0;31mIndexError\u001b[0m                                Traceback (most recent call last)",
      "\u001b[0;32m/var/folders/73/3vwzkq397j5_wtwpszq3cl8w0000gn/T/ipykernel_14667/2469540258.py\u001b[0m in \u001b[0;36m<module>\u001b[0;34m\u001b[0m\n\u001b[1;32m      1\u001b[0m \u001b[0mmy_tuple\u001b[0m\u001b[0;34m=\u001b[0m\u001b[0;34m(\u001b[0m\u001b[0;34m'p'\u001b[0m\u001b[0;34m,\u001b[0m\u001b[0;34m'e'\u001b[0m\u001b[0;34m,\u001b[0m\u001b[0;34m'r'\u001b[0m\u001b[0;34m,\u001b[0m\u001b[0;34m'm'\u001b[0m\u001b[0;34m,\u001b[0m\u001b[0;34m'i'\u001b[0m\u001b[0;34m,\u001b[0m\u001b[0;34m't'\u001b[0m\u001b[0;34m)\u001b[0m\u001b[0;34m\u001b[0m\u001b[0;34m\u001b[0m\u001b[0m\n\u001b[1;32m      2\u001b[0m \u001b[0;34m\u001b[0m\u001b[0m\n\u001b[0;32m----> 3\u001b[0;31m \u001b[0mprint\u001b[0m\u001b[0;34m(\u001b[0m\u001b[0mmy_tuple\u001b[0m\u001b[0;34m[\u001b[0m\u001b[0;36m6\u001b[0m\u001b[0;34m]\u001b[0m\u001b[0;34m)\u001b[0m\u001b[0;34m\u001b[0m\u001b[0;34m\u001b[0m\u001b[0m\n\u001b[0m",
      "\u001b[0;31mIndexError\u001b[0m: tuple index out of range"
     ]
    }
   ],
   "source": [
    "my_tuple=('p','e','r','m','i','t')\n",
    "\n",
    "print(my_tuple[6])"
   ]
  },
  {
   "cell_type": "code",
   "execution_count": 8,
   "id": "8031d2db",
   "metadata": {},
   "outputs": [
    {
     "name": "stdout",
     "output_type": "stream",
     "text": [
      "('r', 'o', 'g')\n"
     ]
    }
   ],
   "source": [
    "my_tuple =('p','r','o','g','r','a','m','i','z')\n",
    "\n",
    "print(my_tuple[1:4])"
   ]
  },
  {
   "cell_type": "code",
   "execution_count": 9,
   "id": "8af4f39d",
   "metadata": {},
   "outputs": [
    {
     "name": "stdout",
     "output_type": "stream",
     "text": [
      "('p', 'r', 'o', 'g', 'r', 'a', 'm', 'i', 'z')\n"
     ]
    }
   ],
   "source": [
    "my_tuple =('p','r','o','g','r','a','m','i','z')\n",
    "\n",
    "print(my_tuple[:])"
   ]
  },
  {
   "cell_type": "code",
   "execution_count": 10,
   "id": "0976802b",
   "metadata": {},
   "outputs": [
    {
     "ename": "TypeError",
     "evalue": "'tuple' object does not support item assignment",
     "output_type": "error",
     "traceback": [
      "\u001b[0;31m---------------------------------------------------------------------------\u001b[0m",
      "\u001b[0;31mTypeError\u001b[0m                                 Traceback (most recent call last)",
      "\u001b[0;32m/var/folders/73/3vwzkq397j5_wtwpszq3cl8w0000gn/T/ipykernel_14667/3468033672.py\u001b[0m in \u001b[0;36m<module>\u001b[0;34m\u001b[0m\n\u001b[1;32m      1\u001b[0m \u001b[0maTuple\u001b[0m \u001b[0;34m=\u001b[0m\u001b[0;34m(\u001b[0m\u001b[0;34m'Python'\u001b[0m\u001b[0;34m,\u001b[0m\u001b[0;34m'C'\u001b[0m\u001b[0;34m,\u001b[0m\u001b[0;34m'C++'\u001b[0m\u001b[0;34m,\u001b[0m\u001b[0;34m'Java'\u001b[0m\u001b[0;34m,\u001b[0m\u001b[0;34m'Scala'\u001b[0m\u001b[0;34m)\u001b[0m\u001b[0;34m\u001b[0m\u001b[0;34m\u001b[0m\u001b[0m\n\u001b[0;32m----> 2\u001b[0;31m \u001b[0maTuple\u001b[0m\u001b[0;34m[\u001b[0m\u001b[0;36m2\u001b[0m\u001b[0;34m]\u001b[0m\u001b[0;34m=\u001b[0m\u001b[0;34m'Ruby'\u001b[0m\u001b[0;34m\u001b[0m\u001b[0;34m\u001b[0m\u001b[0m\n\u001b[0m",
      "\u001b[0;31mTypeError\u001b[0m: 'tuple' object does not support item assignment"
     ]
    }
   ],
   "source": [
    "aTuple =('Python','C','C++','Java','Scala')\n",
    "aTuple[2]='Ruby'"
   ]
  },
  {
   "cell_type": "code",
   "execution_count": 11,
   "id": "c27bab85",
   "metadata": {},
   "outputs": [
    {
     "name": "stdout",
     "output_type": "stream",
     "text": [
      "tuple1:  (4, 2, 3, [6, 5])\n"
     ]
    }
   ],
   "source": [
    "tuple1=(4,2,3,[6,5])\n",
    "\n",
    "print(\"tuple1: \", tuple1)"
   ]
  },
  {
   "cell_type": "code",
   "execution_count": 12,
   "id": "5a0ee609",
   "metadata": {},
   "outputs": [
    {
     "name": "stdout",
     "output_type": "stream",
     "text": [
      "tuple1 after being reassigned:  ('p', 'r', 'o', 'g', 'r', 'a', 'm', 'i', 'z')\n"
     ]
    }
   ],
   "source": [
    "my_tuple =('p','r','o','g','r','a','m','i','z')\n",
    "\n",
    "tuple1=my_tuple\n",
    "\n",
    "print(\"tuple1 after being reassigned: \", tuple1)"
   ]
  },
  {
   "cell_type": "code",
   "execution_count": 13,
   "id": "e5cb3877",
   "metadata": {},
   "outputs": [
    {
     "ename": "NameError",
     "evalue": "name 'aTuple' is not defined",
     "output_type": "error",
     "traceback": [
      "\u001b[0;31m---------------------------------------------------------------------------\u001b[0m",
      "\u001b[0;31mNameError\u001b[0m                                 Traceback (most recent call last)",
      "\u001b[0;32m/var/folders/73/3vwzkq397j5_wtwpszq3cl8w0000gn/T/ipykernel_14667/1623361141.py\u001b[0m in \u001b[0;36m<module>\u001b[0;34m\u001b[0m\n\u001b[1;32m      2\u001b[0m \u001b[0;34m\u001b[0m\u001b[0m\n\u001b[1;32m      3\u001b[0m \u001b[0;32mdel\u001b[0m\u001b[0;34m(\u001b[0m\u001b[0maTuple\u001b[0m\u001b[0;34m)\u001b[0m\u001b[0;34m\u001b[0m\u001b[0;34m\u001b[0m\u001b[0m\n\u001b[0;32m----> 4\u001b[0;31m \u001b[0mprint\u001b[0m\u001b[0;34m(\u001b[0m\u001b[0maTuple\u001b[0m\u001b[0;34m)\u001b[0m\u001b[0;34m\u001b[0m\u001b[0;34m\u001b[0m\u001b[0m\n\u001b[0m",
      "\u001b[0;31mNameError\u001b[0m: name 'aTuple' is not defined"
     ]
    }
   ],
   "source": [
    "aTuple=\"Python is the best scripting language\"\n",
    "\n",
    "del(aTuple)\n",
    "print(aTuple)"
   ]
  },
  {
   "cell_type": "code",
   "execution_count": 14,
   "id": "a3d42693",
   "metadata": {},
   "outputs": [
    {
     "name": "stdout",
     "output_type": "stream",
     "text": [
      "('Hello', 'Hello', 'Hello')\n"
     ]
    }
   ],
   "source": [
    "tuple1=\"Hello\",\n",
    "replicatedTuple=tuple1*3\n",
    "print(replicatedTuple)"
   ]
  },
  {
   "cell_type": "code",
   "execution_count": 15,
   "id": "6fce7019",
   "metadata": {},
   "outputs": [
    {
     "name": "stdout",
     "output_type": "stream",
     "text": [
      "True\n",
      "True\n",
      "False\n"
     ]
    }
   ],
   "source": [
    "aTuple=(2,4,6,\"This\",\"is\",\"a\",\"tuple\")\n",
    "print(2 in aTuple)\n",
    "print('a' in aTuple)\n",
    "print(\"This is\" in aTuple)"
   ]
  },
  {
   "cell_type": "code",
   "execution_count": 16,
   "id": "df7c771d",
   "metadata": {},
   "outputs": [
    {
     "name": "stdout",
     "output_type": "stream",
     "text": [
      "False\n"
     ]
    }
   ],
   "source": [
    "tuple1=\"Hello World!\"\n",
    "tuple2=\"hello world!\" \n",
    "print(tuple1==tuple2)"
   ]
  },
  {
   "cell_type": "code",
   "execution_count": 17,
   "id": "816c5116",
   "metadata": {},
   "outputs": [
    {
     "name": "stdout",
     "output_type": "stream",
     "text": [
      "This\n",
      "is\n",
      "1\n",
      "book\n"
     ]
    }
   ],
   "source": [
    "tuple1=(\"This\",\"is\",1,\"book\")\n",
    "\n",
    "for i in tuple1:\n",
    "    print(i,end=\"\\n\")"
   ]
  },
  {
   "cell_type": "code",
   "execution_count": 18,
   "id": "25667152",
   "metadata": {},
   "outputs": [
    {
     "name": "stdout",
     "output_type": "stream",
     "text": [
      "2\n"
     ]
    }
   ],
   "source": [
    "my_tuple=('a','p','p','l','e',)\n",
    "\n",
    "print(my_tuple.count('p'))"
   ]
  },
  {
   "cell_type": "code",
   "execution_count": null,
   "id": "11f4c727",
   "metadata": {},
   "outputs": [],
   "source": []
  }
 ],
 "metadata": {
  "kernelspec": {
   "display_name": "Python 3 (ipykernel)",
   "language": "python",
   "name": "python3"
  },
  "language_info": {
   "codemirror_mode": {
    "name": "ipython",
    "version": 3
   },
   "file_extension": ".py",
   "mimetype": "text/x-python",
   "name": "python",
   "nbconvert_exporter": "python",
   "pygments_lexer": "ipython3",
   "version": "3.9.13"
  }
 },
 "nbformat": 4,
 "nbformat_minor": 5
}
